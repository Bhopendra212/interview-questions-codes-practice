{
 "cells": [
  {
   "cell_type": "markdown",
   "id": "388e901e-e736-48d5-be07-b939f94ecee3",
   "metadata": {},
   "source": [
    "question 1:- print the even numbers present in the integer list."
   ]
  },
  {
   "cell_type": "code",
   "execution_count": 3,
   "id": "9ceafc36-dec4-48a3-83b5-8d9f27c12236",
   "metadata": {},
   "outputs": [
    {
     "name": "stdout",
     "output_type": "stream",
     "text": [
      "2 4 6 8 "
     ]
    }
   ],
   "source": [
    "list=[1,2,3,4,5,6,7,8,9]\n",
    "\n",
    "for num in list:\n",
    "    if num%2==0:\n",
    "        print(num,end=\" \")"
   ]
  },
  {
   "cell_type": "markdown",
   "id": "9aaa88b2-44e0-42b8-9dbb-42e5a5f36b46",
   "metadata": {},
   "source": [
    "question 2:- print the vowels from the string"
   ]
  },
  {
   "cell_type": "code",
   "execution_count": 8,
   "id": "f1ce3201-da3f-41ca-b9eb-de5ee1362f38",
   "metadata": {},
   "outputs": [
    {
     "name": "stdout",
     "output_type": "stream",
     "text": [
      "11\n",
      "['a', 'e', 'i', 'O', 'e', 'a', 'u', 'a', 'A', 'u', 'a']\n"
     ]
    }
   ],
   "source": [
    "def Check_Vow(string, vowels):\n",
    "    final = [each for each in string if each in vowels]\n",
    "    print(len(final))\n",
    "    print(final)\n",
    "\n",
    "string = \"my name is BhOpendra kumar chAudhary\"\n",
    "vowels = \"AaEeIiOoUu\"\n",
    "Check_Vow(string, vowels);"
   ]
  },
  {
   "cell_type": "code",
   "execution_count": null,
   "id": "b5713f3f-95a8-46cf-a1b6-2fb0f3c0b6d8",
   "metadata": {},
   "outputs": [],
   "source": []
  },
  {
   "cell_type": "markdown",
   "id": "00ef2bbd-6735-4943-90a9-e19c0cb3d6b3",
   "metadata": {},
   "source": [
    "question 3:- Print sum of all the positive numbers in the list"
   ]
  },
  {
   "cell_type": "code",
   "execution_count": 15,
   "id": "c545f828-c4f4-41b5-8df2-354a5faf2a54",
   "metadata": {},
   "outputs": [],
   "source": [
    "def theSum(List):\n",
    "    s = 0 \n",
    "    for i in List:\n",
    "       if i > 0:\n",
    "           s = s + i\n",
    "           return(s)"
   ]
  },
  {
   "cell_type": "code",
   "execution_count": null,
   "id": "ce060c6c-88fe-4767-a497-e66da013d88b",
   "metadata": {},
   "outputs": [],
   "source": []
  },
  {
   "cell_type": "markdown",
   "id": "bd6d72de-d916-44b1-be1b-a9396cad2705",
   "metadata": {},
   "source": [
    "question 4:- Input list of words & return the longest words from the list"
   ]
  },
  {
   "cell_type": "code",
   "execution_count": 24,
   "id": "76f4fcd8-e735-48e4-83b5-eecd994d0501",
   "metadata": {},
   "outputs": [
    {
     "name": "stdout",
     "output_type": "stream",
     "text": [
      "Longest word:  bhopendra\n",
      "Position of Longest word:  11\n"
     ]
    }
   ],
   "source": [
    "str =(\"my name is bhopendra kumar\")\n",
    "word_list = str.split()\n",
    "longest_word = max(word_list, key = len)\n",
    "pos = str.index(longest_word)\n",
    "\n",
    "print(\"Longest word: \",longest_word)\n",
    "print(\"Position of Longest word: \", pos)"
   ]
  },
  {
   "cell_type": "code",
   "execution_count": null,
   "id": "e6b00b34-58f9-47d4-a50f-fe956f772514",
   "metadata": {},
   "outputs": [],
   "source": []
  },
  {
   "cell_type": "markdown",
   "id": "b2f6e250-2a1a-4f27-8a7b-dbf5588e909c",
   "metadata": {},
   "source": [
    "question 5:- print the second largest number from the list"
   ]
  },
  {
   "cell_type": "code",
   "execution_count": 27,
   "id": "2a0bd4bc-30fb-42b1-aad9-9197e8e74561",
   "metadata": {},
   "outputs": [
    {
     "name": "stdout",
     "output_type": "stream",
     "text": [
      "0 1\n"
     ]
    }
   ],
   "source": [
    "Input=[1,2,3,4,5,6,7,2,2,3,0]\n",
    "sm= float('inf')\n",
    "ssm=float('inf')\n",
    "\n",
    "for num in Input:\n",
    "    if num < sm:\n",
    "        ssm=sm\n",
    "        sm=num\n",
    "    elif num<ssm:\n",
    "        ssm=num\n",
    "\n",
    "print(sm,ssm)"
   ]
  },
  {
   "cell_type": "code",
   "execution_count": null,
   "id": "dc95dadd-40ea-42ce-90e6-7c566a2d21ba",
   "metadata": {},
   "outputs": [],
   "source": []
  },
  {
   "cell_type": "markdown",
   "id": "4f005e11-fdfd-41db-a114-c0ff7f00a7ab",
   "metadata": {},
   "source": [
    "question 6:- Take sentence as input and count the frequency of each words in sentence. consider words in a case insensitive manner"
   ]
  },
  {
   "cell_type": "code",
   "execution_count": 37,
   "id": "aea6f4e9-f194-448b-8869-f40f8b98074c",
   "metadata": {},
   "outputs": [
    {
     "name": "stdout",
     "output_type": "stream",
     "text": [
      "E = 1 times\n",
      "n = 2 times\n",
      "t = 2 times\n",
      "e = 1 times\n",
      "r = 2 times\n",
      "  = 2 times\n",
      "a = 1 times\n",
      "  = 2 times\n",
      "s = 1 times\n",
      "t = 2 times\n",
      "r = 2 times\n",
      "i = 1 times\n",
      "n = 2 times\n",
      "g = 1 times\n",
      ": = 1 times\n"
     ]
    }
   ],
   "source": [
    "str=\"Enter a string:\"\n",
    "for i in str:\n",
    "    print(i,\"=\",str.count(i),'times')"
   ]
  },
  {
   "cell_type": "code",
   "execution_count": null,
   "id": "77028ca7-943d-4587-900e-fdff52ea17c8",
   "metadata": {},
   "outputs": [],
   "source": []
  }
 ],
 "metadata": {
  "kernelspec": {
   "display_name": "Python 3 (ipykernel)",
   "language": "python",
   "name": "python3"
  },
  "language_info": {
   "codemirror_mode": {
    "name": "ipython",
    "version": 3
   },
   "file_extension": ".py",
   "mimetype": "text/x-python",
   "name": "python",
   "nbconvert_exporter": "python",
   "pygments_lexer": "ipython3",
   "version": "3.11.5"
  }
 },
 "nbformat": 4,
 "nbformat_minor": 5
}
